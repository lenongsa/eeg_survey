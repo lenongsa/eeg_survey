{
 "cells": [
  {
   "cell_type": "code",
   "execution_count": 38,
   "metadata": {},
   "outputs": [],
   "source": [
    "### Libraries\n",
    "import requests\n",
    "from requests.auth import HTTPDigestAuth\n",
    "\n",
    "import os\n",
    "from io import BytesIO\n",
    "from zipfile import ZipFile"
   ]
  },
  {
   "cell_type": "markdown",
   "metadata": {},
   "source": [
    "## DEAP "
   ]
  },
  {
   "cell_type": "code",
   "execution_count": 66,
   "metadata": {
    "scrolled": true
   },
   "outputs": [],
   "source": [
    "user = ''\n",
    "password = ''\n",
    "\n",
    "url = 'http://www.eecs.qmul.ac.uk/mmv/datasets/deap/data/data_preprocessed_python.zip'\n",
    "resp = requests.get(url, auth=HTTPDigestAuth(user, password))\n",
    "\n",
    "if not os.path.exists(os.path.join('Datasets_raw', 'DEAP')):\n",
    "    os.makedirs(os.path.join('Datasets_raw', 'DEAP'))\n",
    "\n",
    "if resp.status_code == 200:\n",
    "    with ZipFile(BytesIO(resp.content)) as zip_file:\n",
    "        for contained_file in zip_file.namelist():\n",
    "            with open(os.path.join('Datasets_raw', 'DEAP', contained_file),  \"wb\") as file:\n",
    "                file.write(zip_file.read(contained_file))\n",
    "                \n",
    "else:\n",
    "    print('Unable to download files')\n"
   ]
  },
  {
   "cell_type": "code",
   "execution_count": null,
   "metadata": {},
   "outputs": [],
   "source": []
  },
  {
   "cell_type": "code",
   "execution_count": null,
   "metadata": {},
   "outputs": [],
   "source": []
  }
 ],
 "metadata": {
  "kernelspec": {
   "display_name": "Python 3",
   "language": "python",
   "name": "python3"
  },
  "language_info": {
   "codemirror_mode": {
    "name": "ipython",
    "version": 3
   },
   "file_extension": ".py",
   "mimetype": "text/x-python",
   "name": "python",
   "nbconvert_exporter": "python",
   "pygments_lexer": "ipython3",
   "version": "3.8.5"
  }
 },
 "nbformat": 4,
 "nbformat_minor": 4
}
