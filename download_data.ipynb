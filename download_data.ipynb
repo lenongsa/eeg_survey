{
 "cells": [
  {
   "cell_type": "markdown",
   "metadata": {},
   "source": [
    "# Download Data"
   ]
  },
  {
   "cell_type": "markdown",
   "metadata": {},
   "source": [
    "This script downloads the raw EEG data for the 4 datasets used in the survey. Note that two of them, **DEAP** and **Alcoholism_S1**, require an user to be created at their site for the download to be possible."
   ]
  },
  {
   "cell_type": "code",
   "execution_count": 2,
   "metadata": {},
   "outputs": [
    {
     "name": "stdout",
     "output_type": "stream",
     "text": [
      "Warning: Your Kaggle API key is readable by other users on this system! To fix this, you can run 'chmod 600 /home/jet/.kaggle/kaggle.json'\n"
     ]
    }
   ],
   "source": [
    "### Libraries\n",
    "import requests\n",
    "from requests.auth import HTTPDigestAuth\n",
    "\n",
    "import os\n",
    "from io import BytesIO\n",
    "from zipfile import ZipFile\n",
    "\n",
    "#IMPORTANT: must have kaggle.json in the right folder, as detailed in \n",
    "#the 'Authentication' section of https://www.kaggle.com/docs/api\n",
    "import kaggle"
   ]
  },
  {
   "cell_type": "markdown",
   "metadata": {},
   "source": [
    "## DEAP "
   ]
  },
  {
   "cell_type": "code",
   "execution_count": 4,
   "metadata": {
    "scrolled": true
   },
   "outputs": [],
   "source": [
    "### URL: http://www.eecs.qmul.ac.uk/mmv/datasets/deap/index.html\n",
    "### User must be created before download.\n",
    "\n",
    "#User and password created on the site\n",
    "user = 'lenonalipio'\n",
    "password = 'tIXdHmXX'\n",
    "\n",
    "#Download the EEG Data\n",
    "url = 'http://www.eecs.qmul.ac.uk/mmv/datasets/deap/data/data_preprocessed_python.zip'\n",
    "resp = requests.get(url, auth=HTTPDigestAuth(user, password))\n",
    "\n",
    "#Create folder structure\n",
    "if not os.path.exists(os.path.join('Datasets_raw', 'DEAP')):\n",
    "    os.makedirs(os.path.join('Datasets_raw', 'DEAP'))\n",
    "\n",
    "#Unzip the EEG files \n",
    "if resp.status_code == 200:\n",
    "    with ZipFile(BytesIO(resp.content)) as zip_file:\n",
    "        zip_file.extractall(os.path.join('Datasets_raw', 'DEAP'))\n",
    "else:\n",
    "    print('Unable to download files')"
   ]
  },
  {
   "cell_type": "markdown",
   "metadata": {},
   "source": [
    "## Alcoholism_S1"
   ]
  },
  {
   "cell_type": "code",
   "execution_count": 5,
   "metadata": {},
   "outputs": [
    {
     "name": "stdout",
     "output_type": "stream",
     "text": [
      "Warning: Your Kaggle API key is readable by other users on this system! To fix this, you can run 'chmod 600 /home/jet/.kaggle/kaggle.json'\n"
     ]
    }
   ],
   "source": [
    "### URL: https://www.kaggle.com/nnair25/Alcoholics\n",
    "### User must be created at their site and token key put in the appropriate folder, as descripbed in \n",
    "### the 'Authentication' section of https://www.kaggle.com/docs/api\n",
    "\n",
    "#Create folder structure\n",
    "if not os.path.exists(os.path.join('Datasets_raw', 'Alcoholism_S1')):\n",
    "    os.makedirs(os.path.join('Datasets_raw', 'Alcoholism_S1'))\n",
    "\n",
    "#Authenticate at the site and download the EEG data\n",
    "kaggle.api.authenticate()\n",
    "kaggle.api.dataset_download_files('nnair25/Alcoholics', path=os.path.join('Datasets_raw', 'Alcoholism_S1'), unzip=True)"
   ]
  },
  {
   "cell_type": "markdown",
   "metadata": {},
   "source": [
    "## FingerMovements"
   ]
  },
  {
   "cell_type": "code",
   "execution_count": 6,
   "metadata": {},
   "outputs": [],
   "source": [
    "### URL: http://www.timeseriesclassification.com/description.php?Dataset=FingerMovements\n",
    "\n",
    "#Download the EEG Data\n",
    "url = 'http://www.timeseriesclassification.com/Downloads/FingerMovements.zip'\n",
    "resp = requests.get(url)\n",
    "\n",
    "#Create folder structure\n",
    "if not os.path.exists(os.path.join('Datasets_raw', 'FingerMovements')):\n",
    "    os.makedirs(os.path.join('Datasets_raw', 'FingerMovements'))\n",
    "\n",
    "#Unzip the EEG files \n",
    "if resp.status_code == 200:\n",
    "    with ZipFile(BytesIO(resp.content)) as zip_file:\n",
    "        for contained_file in zip_file.namelist():\n",
    "            with open(os.path.join('Datasets_raw', 'FingerMovements', contained_file),  \"wb\") as file:\n",
    "                file.write(zip_file.read(contained_file))\n",
    "else:\n",
    "    print('Unable to download files')"
   ]
  },
  {
   "cell_type": "markdown",
   "metadata": {},
   "source": [
    "## SelfRegulationSCP1"
   ]
  },
  {
   "cell_type": "code",
   "execution_count": 7,
   "metadata": {},
   "outputs": [],
   "source": [
    "### URL: http://www.timeseriesclassification.com/description.php?Dataset=SelfRegulationSCP1\n",
    "\n",
    "#Download the EEG Data\n",
    "url = 'http://www.timeseriesclassification.com/Downloads/SelfRegulationSCP1.zip'\n",
    "resp = requests.get(url)\n",
    "\n",
    "#Create folder structure\n",
    "if not os.path.exists(os.path.join('Datasets_raw', 'SelfRegulationSCP1')):\n",
    "    os.makedirs(os.path.join('Datasets_raw', 'SelfRegulationSCP1'))\n",
    "\n",
    "#Unzip the EEG files \n",
    "if resp.status_code == 200:\n",
    "    with ZipFile(BytesIO(resp.content)) as zip_file:\n",
    "        for contained_file in zip_file.namelist():\n",
    "            with open(os.path.join('Datasets_raw', 'SelfRegulationSCP1', contained_file),  \"wb\") as file:\n",
    "                file.write(zip_file.read(contained_file))\n",
    "else:\n",
    "    print('Unable to download files')"
   ]
  }
 ],
 "metadata": {
  "kernelspec": {
   "display_name": "eeg_survey",
   "language": "python",
   "name": "eeg_survey"
  },
  "language_info": {
   "codemirror_mode": {
    "name": "ipython",
    "version": 3
   },
   "file_extension": ".py",
   "mimetype": "text/x-python",
   "name": "python",
   "nbconvert_exporter": "python",
   "pygments_lexer": "ipython3",
   "version": "3.6.3"
  }
 },
 "nbformat": 4,
 "nbformat_minor": 4
}
